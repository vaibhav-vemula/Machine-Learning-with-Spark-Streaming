{
 "cells": [
  {
   "cell_type": "code",
   "execution_count": 1,
   "metadata": {},
   "outputs": [],
   "source": [
    "from pyspark.sql import SparkSession\n",
    "spark = SparkSession.builder.appName('nlp').getOrCreate()\n",
    "data = spark.read.csv(\"SMSSpamCollection\",inferSchema=True,sep='\\t')\n",
    "data = data.withColumnRenamed('_c0','class').withColumnRenamed('_c1','text')\n",
    "\n",
    "# from pyspark.sql import SQLContext\n",
    "# from pyspark import SparkContext\n",
    "# sc =SparkContext.getOrCreate()\n",
    "# sqlContext = SQLContext(sc)\n",
    "# data = sqlContext.read.format('com.databricks.spark.csv').options(header='true').load('../dataset/spam/train.csv')"
   ]
  },
  {
   "cell_type": "code",
   "execution_count": 2,
   "metadata": {},
   "outputs": [
    {
     "name": "stdout",
     "output_type": "stream",
     "text": [
      "+-----+--------------------+\n",
      "|class|                text|\n",
      "+-----+--------------------+\n",
      "|  ham|Go until jurong p...|\n",
      "|  ham|Ok lar... Joking ...|\n",
      "| spam|Free entry in 2 a...|\n",
      "|  ham|U dun say so earl...|\n",
      "|  ham|Nah I don't think...|\n",
      "| spam|FreeMsg Hey there...|\n",
      "|  ham|Even my brother i...|\n",
      "|  ham|As per your reque...|\n",
      "| spam|WINNER!! As a val...|\n",
      "| spam|Had your mobile 1...|\n",
      "|  ham|I'm gonna be home...|\n",
      "| spam|SIX chances to wi...|\n",
      "| spam|URGENT! You have ...|\n",
      "|  ham|I've been searchi...|\n",
      "|  ham|I HAVE A DATE ON ...|\n",
      "| spam|XXXMobileMovieClu...|\n",
      "|  ham|Oh k...i'm watchi...|\n",
      "|  ham|Eh u remember how...|\n",
      "|  ham|Fine if thats th...|\n",
      "| spam|England v Macedon...|\n",
      "+-----+--------------------+\n",
      "only showing top 20 rows\n",
      "\n"
     ]
    }
   ],
   "source": [
    "data.show()"
   ]
  },
  {
   "cell_type": "code",
   "execution_count": 6,
   "metadata": {},
   "outputs": [
    {
     "name": "stdout",
     "output_type": "stream",
     "text": [
      "+-----+--------------------+------+\n",
      "|class|                text|length|\n",
      "+-----+--------------------+------+\n",
      "|  ham|Go until jurong p...|   111|\n",
      "|  ham|Ok lar... Joking ...|    29|\n",
      "| spam|Free entry in 2 a...|   155|\n",
      "|  ham|U dun say so earl...|    49|\n",
      "|  ham|Nah I don't think...|    61|\n",
      "| spam|FreeMsg Hey there...|   147|\n",
      "|  ham|Even my brother i...|    77|\n",
      "|  ham|As per your reque...|   160|\n",
      "| spam|WINNER!! As a val...|   157|\n",
      "| spam|Had your mobile 1...|   154|\n",
      "|  ham|I'm gonna be home...|   109|\n",
      "| spam|SIX chances to wi...|   136|\n",
      "| spam|URGENT! You have ...|   155|\n",
      "|  ham|I've been searchi...|   196|\n",
      "|  ham|I HAVE A DATE ON ...|    35|\n",
      "| spam|XXXMobileMovieClu...|   149|\n",
      "|  ham|Oh k...i'm watchi...|    26|\n",
      "|  ham|Eh u remember how...|    81|\n",
      "|  ham|Fine if thats th...|    56|\n",
      "| spam|England v Macedon...|   155|\n",
      "+-----+--------------------+------+\n",
      "only showing top 20 rows\n",
      "\n"
     ]
    }
   ],
   "source": [
    "from pyspark.sql.functions import length, regexp_replace\n",
    "\n",
    "data = data.withColumn('length',length(data['text']))\n",
    "data = data.drop('Subject')\n",
    "data = data.withColumn(\"text\", regexp_replace(\"text\", \",\", \"\"))\\\n",
    "    .withColumn(\"text\", regexp_replace(\"text\", \",\", \"\"))\\\n",
    "    .withColumn(\"text\", regexp_replace(\"text\", \":\", \"\"))\\\n",
    "    .withColumn(\"text\", regexp_replace(\"text\", \"-\", \"\"))\\\n",
    "    .withColumn(\"text\", regexp_replace(\"text\", \"/\", \"\"))\\\n",
    "    .withColumn(\"text\", regexp_replace(\"text\", \"\\n\", \"\"))\\\n",
    "    .withColumn(\"text\", regexp_replace(\"text\", \"  \", \"\"))\\\n",
    "    .withColumn(\"text\", regexp_replace(\"text\", \";\", \"\"))\n",
    "data.show()"
   ]
  },
  {
   "cell_type": "code",
   "execution_count": 7,
   "metadata": {},
   "outputs": [
    {
     "name": "stdout",
     "output_type": "stream",
     "text": [
      "+-----+-----------------+\n",
      "|class|      avg(length)|\n",
      "+-----+-----------------+\n",
      "|  ham|71.45431945307645|\n",
      "| spam|138.6706827309237|\n",
      "+-----+-----------------+\n",
      "\n"
     ]
    }
   ],
   "source": [
    "data.groupby('class').mean().show()"
   ]
  },
  {
   "cell_type": "code",
   "execution_count": 8,
   "metadata": {},
   "outputs": [],
   "source": [
    "from pyspark.ml.feature import Tokenizer,StopWordsRemover, CountVectorizer,IDF,StringIndexer\n",
    "from pyspark.ml.feature import VectorAssembler\n",
    "from pyspark.ml.linalg import Vector\n",
    "tokenizer = Tokenizer(inputCol=\"text\", outputCol=\"token_text\")\n",
    "stopremove = StopWordsRemover(inputCol='token_text',outputCol='stop_tokens')\n",
    "count_vec = CountVectorizer(inputCol='stop_tokens',outputCol='c_vec')\n",
    "idf = IDF(inputCol=\"c_vec\", outputCol=\"tf_idf\")\n",
    "ham_spam_to_num = StringIndexer(inputCol='class',outputCol='label')\n",
    "clean_up = VectorAssembler(inputCols=['tf_idf','length'],outputCol='features')"
   ]
  },
  {
   "cell_type": "code",
   "execution_count": 9,
   "metadata": {},
   "outputs": [],
   "source": [
    "from pyspark.ml.classification import NaiveBayes\n",
    "# Use defaults\n",
    "nb = NaiveBayes()"
   ]
  },
  {
   "cell_type": "code",
   "execution_count": 10,
   "metadata": {},
   "outputs": [],
   "source": [
    "from pyspark.ml import Pipeline\n",
    "data_prep_pipe = Pipeline(stages=[ham_spam_to_num,tokenizer,stopremove,count_vec,idf,clean_up])\n",
    "cleaner = data_prep_pipe.fit(data)\n",
    "clean_data = cleaner.transform(data)"
   ]
  },
  {
   "cell_type": "code",
   "execution_count": 11,
   "metadata": {},
   "outputs": [
    {
     "name": "stdout",
     "output_type": "stream",
     "text": [
      "+-----+--------------------+\n",
      "|label|            features|\n",
      "+-----+--------------------+\n",
      "|  0.0|(12955,[5,10,30,6...|\n",
      "|  0.0|(12955,[0,20,301,...|\n",
      "|  1.0|(12955,[2,9,17,23...|\n",
      "|  0.0|(12955,[0,62,81,1...|\n",
      "|  0.0|(12955,[36,157,32...|\n",
      "|  1.0|(12955,[11,14,59,...|\n",
      "|  0.0|(12955,[11,54,108...|\n",
      "|  0.0|(12955,[125,177,4...|\n",
      "|  1.0|(12955,[1,46,109,...|\n",
      "|  1.0|(12955,[0,1,9,26,...|\n",
      "|  0.0|(12955,[16,43,121...|\n",
      "|  1.0|(12955,[6,14,35,9...|\n",
      "|  1.0|(12955,[9,23,46,8...|\n",
      "|  0.0|(12955,[39,95,202...|\n",
      "|  0.0|(12955,[552,1687,...|\n",
      "|  1.0|(12955,[23,97,123...|\n",
      "|  0.0|(12955,[75,213,36...|\n",
      "|  0.0|(12955,[0,2,49,99...|\n",
      "|  0.0|(12955,[0,72,100,...|\n",
      "|  1.0|(12955,[3,23,78,1...|\n",
      "+-----+--------------------+\n",
      "only showing top 20 rows\n",
      "\n"
     ]
    }
   ],
   "source": [
    "clean_data = clean_data.select(['label','features'])\n",
    "clean_data.show()"
   ]
  },
  {
   "cell_type": "code",
   "execution_count": 37,
   "metadata": {},
   "outputs": [
    {
     "name": "stdout",
     "output_type": "stream",
     "text": [
      "+-----+--------------------+--------------------+--------------------+----------+\n",
      "|label|            features|       rawPrediction|         probability|prediction|\n",
      "+-----+--------------------+--------------------+--------------------+----------+\n",
      "|  0.0|(13424,[0,1,3,9,1...|[-576.04809574027...|[0.99999999999307...|       0.0|\n",
      "|  0.0|(13424,[0,1,4,50,...|[-846.76807909555...|[1.0,1.1615186239...|       0.0|\n",
      "|  0.0|(13424,[0,1,14,18...|[-1366.6474191483...|[1.0,1.9203829937...|       0.0|\n",
      "|  0.0|(13424,[0,1,14,31...|[-217.12938114444...|[1.0,8.0460229588...|       0.0|\n",
      "|  0.0|(13424,[0,1,15,20...|[-689.09237209870...|[1.0,1.3726090163...|       0.0|\n",
      "|  0.0|(13424,[0,1,20,27...|[-972.28920896551...|[1.0,3.1382747324...|       0.0|\n",
      "|  0.0|(13424,[0,1,24,31...|[-355.29440607134...|[1.0,1.3454933541...|       0.0|\n",
      "|  0.0|(13424,[0,1,27,35...|[-1485.6805906997...|[0.99999969182573...|       0.0|\n",
      "|  0.0|(13424,[0,1,27,88...|[-1521.6341948175...|[0.02485519397279...|       1.0|\n",
      "|  0.0|(13424,[0,1,30,12...|[-596.09677075718...|[1.0,8.3539081322...|       0.0|\n",
      "|  0.0|(13424,[0,1,46,17...|[-1156.2703160045...|[1.61307511724400...|       1.0|\n",
      "|  0.0|(13424,[0,1,72,10...|[-680.28007604247...|[1.0,5.1205036893...|       0.0|\n",
      "|  0.0|(13424,[0,1,498,5...|[-329.90162158628...|[0.99999994206878...|       0.0|\n",
      "|  0.0|(13424,[0,2,3,6,9...|[-3407.3526816042...|[1.0,1.3436268511...|       0.0|\n",
      "|  0.0|(13424,[0,2,3,6,9...|[-3407.3526816042...|[1.0,1.3436268511...|       0.0|\n",
      "|  0.0|(13424,[0,2,4,5,1...|[-2739.9311554197...|[1.0,5.3912013951...|       0.0|\n",
      "|  0.0|(13424,[0,2,4,5,1...|[-2739.9311554197...|[1.0,5.3912013951...|       0.0|\n",
      "|  0.0|(13424,[0,2,4,7,2...|[-509.42473790104...|[1.0,8.5492511346...|       0.0|\n",
      "|  0.0|(13424,[0,2,4,8,1...|[-1312.9608909284...|[1.0,4.3555092889...|       0.0|\n",
      "|  0.0|(13424,[0,2,4,8,2...|[-547.21572857135...|[1.0,2.3263270252...|       0.0|\n",
      "+-----+--------------------+--------------------+--------------------+----------+\n",
      "only showing top 20 rows\n",
      "\n"
     ]
    }
   ],
   "source": [
    "(training,testing) = clean_data.randomSplit([0.7,0.3])\n",
    "spam_predictor = nb.fit(training)\n",
    "test_results = spam_predictor.transform(testing)\n",
    "test_results.show()"
   ]
  },
  {
   "cell_type": "code",
   "execution_count": 38,
   "metadata": {},
   "outputs": [
    {
     "name": "stdout",
     "output_type": "stream",
     "text": [
      "Accuracy of model at predicting spam was: 0.9247526392130049\n"
     ]
    }
   ],
   "source": [
    "from pyspark.ml.evaluation import MulticlassClassificationEvaluator\n",
    "acc_eval = MulticlassClassificationEvaluator()\n",
    "acc = acc_eval.evaluate(test_results)\n",
    "print(\"Accuracy of model at predicting spam was: {}\".format(acc))"
   ]
  },
  {
   "cell_type": "code",
   "execution_count": null,
   "metadata": {},
   "outputs": [],
   "source": []
  }
 ],
 "metadata": {
  "interpreter": {
   "hash": "aee8b7b246df8f9039afb4144a1f6fd8d2ca17a180786b69acc140d282b71a49"
  },
  "kernelspec": {
   "display_name": "Python 3.9.0 64-bit",
   "language": "python",
   "name": "python3"
  },
  "language_info": {
   "codemirror_mode": {
    "name": "ipython",
    "version": 3
   },
   "file_extension": ".py",
   "mimetype": "text/x-python",
   "name": "python",
   "nbconvert_exporter": "python",
   "pygments_lexer": "ipython3",
   "version": "3.9.0"
  },
  "orig_nbformat": 4
 },
 "nbformat": 4,
 "nbformat_minor": 2
}
